{
 "cells": [
  {
   "cell_type": "code",
   "execution_count": null,
   "id": "513246a9",
   "metadata": {},
   "outputs": [],
   "source": [
    "from pyspark import SparkContext, SparkConf\n",
    "\n",
    "conf = SparkConf().setAppName(\"NBA Shot Logs\").setMaster(\"yarn\")\n",
    "sc = SparkContext(conf=conf)\n",
    "`\n",
    "data = sc.textFile(\"/input/shot_logs.csv\")\n"
   ]
  },
  {
   "cell_type": "markdown",
   "id": "c9d3fbff",
   "metadata": {},
   "source": [
    "#### 1. Who is his ”most unwanted defender”?"
   ]
  },
  {
   "cell_type": "code",
   "execution_count": null,
   "id": "4fa8269b",
   "metadata": {},
   "outputs": [],
   "source": [
    "player_pairs = data.map(lambda line: ( (line.split(\",\")[20], line.split(\",\")[16]), (int(line.split(\",\")[18]), 1) ))\n",
    "player_stats = player_pairs.reduceByKey(lambda a,b: (a[0]+b[0], a[1]+b[1]))\n",
    "player_hit_rate = player_stats.mapValues(lambda x: x[0]/x[1])\n",
    "\n",
    "most_unwanted_defenders = player_hit_rate.groupBy(lambda x: x[0][0]).mapValues(lambda x: sorted(x, key=lambda y: y[1])[0][0][1])\n",
    "\n",
    "for player, defender in most_unwanted_defenders.collect():\n",
    "    print(\"Player {}: most unwanted defender is {}\".format(player, defender))\n"
   ]
  },
  {
   "cell_type": "markdown",
   "id": "5e387756",
   "metadata": {},
   "source": [
    "#### 2. Classify each player’s records into 4 comfortable zones"
   ]
  },
  {
   "cell_type": "code",
   "execution_count": null,
   "id": "639411d2",
   "metadata": {},
   "outputs": [],
   "source": [
    "player_zones = data.map(lambda line: ( line.split(\",\")[20], (float(line.split(\",\")[11]), float(line.split(\",\")[16]), float(line.split(\",\")[8]), int(line.split(\",\")[19]), 1) ))\n",
    "\n",
    "player_zone_stats = player_zones.groupBy(lambda x: (x[0], int(x[1][0]), int(x[1][1]), int(x[1][2]))).mapValues(lambda x: (sum([t[1] for t in x]), sum([t[1][0] for t in x])))\n",
    "\n",
    "# classifies each player's records into 4 comfortable zones based on shot distance, closest defender distance, and shot clock time\n",
    "player_zones_classified = player_zone_hit_rate.map(lambda x: (x[0][0], (x[0][1], x[0][2], x[0][3], x[1]))).groupBy(lambda x: x[0]).mapValues(lambda x: sorted(x, key=lambda y: y[1][3], reverse=True)).mapValues(lambda x: [(1, x[i][1]) if i < len(x)/4 else ((2, x[i][1]) if i < 2*len(x)/4 else ((3, x[i][1]) if i < 3*len(x)/4 else (4, x[i][1]))) for i in range(len(x))]).flatMapValues(lambda x: x)\n",
    "\n",
    "players = ['James Harden', 'Chris Paul', 'Stephen Curry', 'Lebron James']\n",
    "for player in players:\n",
    "    player_zone_hit_rates = player_zones_classified.filter(lambda x: x[0] == player).map(lambda x: (x[1][0], x[1][1], x[1][2], x[1][3])).groupByKey().mapValues(lambda x: sum(x)/len(x))\n",
    "    best_zone = player_zone_hit_rates.reduce(lambda a,b: a if a[1]>b[1] else b)\n",
    "    print(\"Player {}: best zone is {}\".format(player, best_zone))"
   ]
  }
 ],
 "metadata": {
  "kernelspec": {
   "display_name": "Python 3 (ipykernel)",
   "language": "python",
   "name": "python3"
  },
  "language_info": {
   "codemirror_mode": {
    "name": "ipython",
    "version": 3
   },
   "file_extension": ".py",
   "mimetype": "text/x-python",
   "name": "python",
   "nbconvert_exporter": "python",
   "pygments_lexer": "ipython3",
   "version": "3.8.16"
  }
 },
 "nbformat": 4,
 "nbformat_minor": 5
}
